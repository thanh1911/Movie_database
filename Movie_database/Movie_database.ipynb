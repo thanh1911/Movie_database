{
 "cells": [
  {
   "cell_type": "code",
   "execution_count": 1,
   "id": "1a4a2062",
   "metadata": {},
   "outputs": [],
   "source": [
    "import numpy as np\n",
    "import pandas as pd\n",
    "import sqlite3 as sql"
   ]
  },
  {
   "cell_type": "code",
   "execution_count": 2,
   "id": "187f13da",
   "metadata": {},
   "outputs": [],
   "source": [
    "database = \"movies.sqlite\"\n",
    "db = sql.connect(database)  "
   ]
  },
  {
   "cell_type": "code",
   "execution_count": 3,
   "id": "c970abd8",
   "metadata": {},
   "outputs": [],
   "source": [
    "#Query1 : GET ALL THE DATA FROM MOVIES\n",
    "Q1 = \"SELECT * FROM MOVIES\"\n",
    "r1 = pd.read_sql(Q1,db) #(query,database)"
   ]
  },
  {
   "cell_type": "code",
   "execution_count": 4,
   "id": "1ba83a5b",
   "metadata": {},
   "outputs": [
    {
     "data": {
      "text/html": [
       "<div>\n",
       "<style scoped>\n",
       "    .dataframe tbody tr th:only-of-type {\n",
       "        vertical-align: middle;\n",
       "    }\n",
       "\n",
       "    .dataframe tbody tr th {\n",
       "        vertical-align: top;\n",
       "    }\n",
       "\n",
       "    .dataframe thead th {\n",
       "        text-align: right;\n",
       "    }\n",
       "</style>\n",
       "<table border=\"1\" class=\"dataframe\">\n",
       "  <thead>\n",
       "    <tr style=\"text-align: right;\">\n",
       "      <th></th>\n",
       "      <th>id</th>\n",
       "      <th>original_title</th>\n",
       "      <th>budget</th>\n",
       "      <th>popularity</th>\n",
       "      <th>release_date</th>\n",
       "      <th>revenue</th>\n",
       "      <th>title</th>\n",
       "      <th>vote_average</th>\n",
       "      <th>vote_count</th>\n",
       "      <th>overview</th>\n",
       "      <th>tagline</th>\n",
       "      <th>uid</th>\n",
       "      <th>director_id</th>\n",
       "    </tr>\n",
       "  </thead>\n",
       "  <tbody>\n",
       "    <tr>\n",
       "      <th>0</th>\n",
       "      <td>43597</td>\n",
       "      <td>Avatar</td>\n",
       "      <td>237000000</td>\n",
       "      <td>150</td>\n",
       "      <td>2009-12-10</td>\n",
       "      <td>2787965087</td>\n",
       "      <td>Avatar</td>\n",
       "      <td>7.2</td>\n",
       "      <td>11800</td>\n",
       "      <td>In the 22nd century, a paraplegic Marine is di...</td>\n",
       "      <td>Enter the World of Pandora.</td>\n",
       "      <td>19995</td>\n",
       "      <td>4762</td>\n",
       "    </tr>\n",
       "    <tr>\n",
       "      <th>1</th>\n",
       "      <td>43598</td>\n",
       "      <td>Pirates of the Caribbean: At World's End</td>\n",
       "      <td>300000000</td>\n",
       "      <td>139</td>\n",
       "      <td>2007-05-19</td>\n",
       "      <td>961000000</td>\n",
       "      <td>Pirates of the Caribbean: At World's End</td>\n",
       "      <td>6.9</td>\n",
       "      <td>4500</td>\n",
       "      <td>Captain Barbossa, long believed to be dead, ha...</td>\n",
       "      <td>At the end of the world, the adventure begins.</td>\n",
       "      <td>285</td>\n",
       "      <td>4763</td>\n",
       "    </tr>\n",
       "    <tr>\n",
       "      <th>2</th>\n",
       "      <td>43599</td>\n",
       "      <td>Spectre</td>\n",
       "      <td>245000000</td>\n",
       "      <td>107</td>\n",
       "      <td>2015-10-26</td>\n",
       "      <td>880674609</td>\n",
       "      <td>Spectre</td>\n",
       "      <td>6.3</td>\n",
       "      <td>4466</td>\n",
       "      <td>A cryptic message from Bond’s past sends him o...</td>\n",
       "      <td>A Plan No One Escapes</td>\n",
       "      <td>206647</td>\n",
       "      <td>4764</td>\n",
       "    </tr>\n",
       "    <tr>\n",
       "      <th>3</th>\n",
       "      <td>43600</td>\n",
       "      <td>The Dark Knight Rises</td>\n",
       "      <td>250000000</td>\n",
       "      <td>112</td>\n",
       "      <td>2012-07-16</td>\n",
       "      <td>1084939099</td>\n",
       "      <td>The Dark Knight Rises</td>\n",
       "      <td>7.6</td>\n",
       "      <td>9106</td>\n",
       "      <td>Following the death of District Attorney Harve...</td>\n",
       "      <td>The Legend Ends</td>\n",
       "      <td>49026</td>\n",
       "      <td>4765</td>\n",
       "    </tr>\n",
       "    <tr>\n",
       "      <th>4</th>\n",
       "      <td>43601</td>\n",
       "      <td>John Carter</td>\n",
       "      <td>260000000</td>\n",
       "      <td>43</td>\n",
       "      <td>2012-03-07</td>\n",
       "      <td>284139100</td>\n",
       "      <td>John Carter</td>\n",
       "      <td>6.1</td>\n",
       "      <td>2124</td>\n",
       "      <td>John Carter is a war-weary, former military ca...</td>\n",
       "      <td>Lost in our world, found in another.</td>\n",
       "      <td>49529</td>\n",
       "      <td>4766</td>\n",
       "    </tr>\n",
       "    <tr>\n",
       "      <th>...</th>\n",
       "      <td>...</td>\n",
       "      <td>...</td>\n",
       "      <td>...</td>\n",
       "      <td>...</td>\n",
       "      <td>...</td>\n",
       "      <td>...</td>\n",
       "      <td>...</td>\n",
       "      <td>...</td>\n",
       "      <td>...</td>\n",
       "      <td>...</td>\n",
       "      <td>...</td>\n",
       "      <td>...</td>\n",
       "      <td>...</td>\n",
       "    </tr>\n",
       "    <tr>\n",
       "      <th>4768</th>\n",
       "      <td>48395</td>\n",
       "      <td>El Mariachi</td>\n",
       "      <td>220000</td>\n",
       "      <td>14</td>\n",
       "      <td>1992-09-04</td>\n",
       "      <td>2040920</td>\n",
       "      <td>El Mariachi</td>\n",
       "      <td>6.6</td>\n",
       "      <td>238</td>\n",
       "      <td>El Mariachi just wants to play his guitar and ...</td>\n",
       "      <td>He didn't come looking for trouble, but troubl...</td>\n",
       "      <td>9367</td>\n",
       "      <td>5097</td>\n",
       "    </tr>\n",
       "    <tr>\n",
       "      <th>4769</th>\n",
       "      <td>48396</td>\n",
       "      <td>Newlyweds</td>\n",
       "      <td>9000</td>\n",
       "      <td>0</td>\n",
       "      <td>2011-12-26</td>\n",
       "      <td>0</td>\n",
       "      <td>Newlyweds</td>\n",
       "      <td>5.9</td>\n",
       "      <td>5</td>\n",
       "      <td>A newlywed couple's honeymoon is upended by th...</td>\n",
       "      <td>A newlywed couple's honeymoon is upended by th...</td>\n",
       "      <td>72766</td>\n",
       "      <td>6485</td>\n",
       "    </tr>\n",
       "    <tr>\n",
       "      <th>4770</th>\n",
       "      <td>48397</td>\n",
       "      <td>Signed, Sealed, Delivered</td>\n",
       "      <td>0</td>\n",
       "      <td>1</td>\n",
       "      <td>2013-10-13</td>\n",
       "      <td>0</td>\n",
       "      <td>Signed, Sealed, Delivered</td>\n",
       "      <td>7.0</td>\n",
       "      <td>6</td>\n",
       "      <td>\"Signed, Sealed, Delivered\" introduces a dedic...</td>\n",
       "      <td>None</td>\n",
       "      <td>231617</td>\n",
       "      <td>7108</td>\n",
       "    </tr>\n",
       "    <tr>\n",
       "      <th>4771</th>\n",
       "      <td>48398</td>\n",
       "      <td>Shanghai Calling</td>\n",
       "      <td>0</td>\n",
       "      <td>0</td>\n",
       "      <td>2012-05-03</td>\n",
       "      <td>0</td>\n",
       "      <td>Shanghai Calling</td>\n",
       "      <td>5.7</td>\n",
       "      <td>7</td>\n",
       "      <td>When ambitious New York attorney Sam is sent t...</td>\n",
       "      <td>A New Yorker in Shanghai</td>\n",
       "      <td>126186</td>\n",
       "      <td>7109</td>\n",
       "    </tr>\n",
       "    <tr>\n",
       "      <th>4772</th>\n",
       "      <td>48399</td>\n",
       "      <td>My Date with Drew</td>\n",
       "      <td>0</td>\n",
       "      <td>1</td>\n",
       "      <td>2005-08-05</td>\n",
       "      <td>0</td>\n",
       "      <td>My Date with Drew</td>\n",
       "      <td>6.3</td>\n",
       "      <td>16</td>\n",
       "      <td>Ever since the second grade when he first saw ...</td>\n",
       "      <td>None</td>\n",
       "      <td>25975</td>\n",
       "      <td>7110</td>\n",
       "    </tr>\n",
       "  </tbody>\n",
       "</table>\n",
       "<p>4773 rows × 13 columns</p>\n",
       "</div>"
      ],
      "text/plain": [
       "         id                            original_title     budget  popularity  \\\n",
       "0     43597                                    Avatar  237000000         150   \n",
       "1     43598  Pirates of the Caribbean: At World's End  300000000         139   \n",
       "2     43599                                   Spectre  245000000         107   \n",
       "3     43600                     The Dark Knight Rises  250000000         112   \n",
       "4     43601                               John Carter  260000000          43   \n",
       "...     ...                                       ...        ...         ...   \n",
       "4768  48395                               El Mariachi     220000          14   \n",
       "4769  48396                                 Newlyweds       9000           0   \n",
       "4770  48397                 Signed, Sealed, Delivered          0           1   \n",
       "4771  48398                          Shanghai Calling          0           0   \n",
       "4772  48399                         My Date with Drew          0           1   \n",
       "\n",
       "     release_date     revenue                                     title  \\\n",
       "0      2009-12-10  2787965087                                    Avatar   \n",
       "1      2007-05-19   961000000  Pirates of the Caribbean: At World's End   \n",
       "2      2015-10-26   880674609                                   Spectre   \n",
       "3      2012-07-16  1084939099                     The Dark Knight Rises   \n",
       "4      2012-03-07   284139100                               John Carter   \n",
       "...           ...         ...                                       ...   \n",
       "4768   1992-09-04     2040920                               El Mariachi   \n",
       "4769   2011-12-26           0                                 Newlyweds   \n",
       "4770   2013-10-13           0                 Signed, Sealed, Delivered   \n",
       "4771   2012-05-03           0                          Shanghai Calling   \n",
       "4772   2005-08-05           0                         My Date with Drew   \n",
       "\n",
       "      vote_average  vote_count  \\\n",
       "0              7.2       11800   \n",
       "1              6.9        4500   \n",
       "2              6.3        4466   \n",
       "3              7.6        9106   \n",
       "4              6.1        2124   \n",
       "...            ...         ...   \n",
       "4768           6.6         238   \n",
       "4769           5.9           5   \n",
       "4770           7.0           6   \n",
       "4771           5.7           7   \n",
       "4772           6.3          16   \n",
       "\n",
       "                                               overview  \\\n",
       "0     In the 22nd century, a paraplegic Marine is di...   \n",
       "1     Captain Barbossa, long believed to be dead, ha...   \n",
       "2     A cryptic message from Bond’s past sends him o...   \n",
       "3     Following the death of District Attorney Harve...   \n",
       "4     John Carter is a war-weary, former military ca...   \n",
       "...                                                 ...   \n",
       "4768  El Mariachi just wants to play his guitar and ...   \n",
       "4769  A newlywed couple's honeymoon is upended by th...   \n",
       "4770  \"Signed, Sealed, Delivered\" introduces a dedic...   \n",
       "4771  When ambitious New York attorney Sam is sent t...   \n",
       "4772  Ever since the second grade when he first saw ...   \n",
       "\n",
       "                                                tagline     uid  director_id  \n",
       "0                           Enter the World of Pandora.   19995         4762  \n",
       "1        At the end of the world, the adventure begins.     285         4763  \n",
       "2                                 A Plan No One Escapes  206647         4764  \n",
       "3                                       The Legend Ends   49026         4765  \n",
       "4                  Lost in our world, found in another.   49529         4766  \n",
       "...                                                 ...     ...          ...  \n",
       "4768  He didn't come looking for trouble, but troubl...    9367         5097  \n",
       "4769  A newlywed couple's honeymoon is upended by th...   72766         6485  \n",
       "4770                                               None  231617         7108  \n",
       "4771                           A New Yorker in Shanghai  126186         7109  \n",
       "4772                                               None   25975         7110  \n",
       "\n",
       "[4773 rows x 13 columns]"
      ]
     },
     "execution_count": 4,
     "metadata": {},
     "output_type": "execute_result"
    }
   ],
   "source": [
    "r1"
   ]
  },
  {
   "cell_type": "code",
   "execution_count": 5,
   "id": "061a487e",
   "metadata": {},
   "outputs": [
    {
     "name": "stdout",
     "output_type": "stream",
     "text": [
      "                   name    id  gender      uid department\n",
      "0         James Cameron  4762       2     2710  Directing\n",
      "1        Gore Verbinski  4763       2     1704  Directing\n",
      "2            Sam Mendes  4764       2       39  Directing\n",
      "3     Christopher Nolan  4765       2      525  Directing\n",
      "4        Andrew Stanton  4766       2        7  Directing\n",
      "...                 ...   ...     ...      ...        ...\n",
      "2344      Shane Carruth  7106       2    76624  Directing\n",
      "2345   Neill Dela Llana  7107       0  1174437  Directing\n",
      "2346        Scott Smith  7108       0  1219158  Directing\n",
      "2347        Daniel Hsia  7109       2   208138  Directing\n",
      "2348   Brian Herzlinger  7110       2    85563  Directing\n",
      "\n",
      "[2349 rows x 5 columns]\n"
     ]
    }
   ],
   "source": [
    "Q2 = \"SELECT * FROM directors\"\n",
    "r2 = pd.read_sql(Q2,db)\n",
    "print(r2)"
   ]
  },
  {
   "cell_type": "code",
   "execution_count": 6,
   "id": "be1ca7c1",
   "metadata": {},
   "outputs": [
    {
     "name": "stdout",
     "output_type": "stream",
     "text": [
      "   Number_of_movies\n",
      "0              4773\n"
     ]
    }
   ],
   "source": [
    "#Query3: CHECK HOW MANY MOVIES ARE PRESENT IN IMDB\n",
    "Q3 =\"SELECT COUNT(*) as Number_of_movies FROM movies\"\n",
    "r3 = pd.read_sql(Q3,db)\n",
    "print(r3)"
   ]
  },
  {
   "cell_type": "code",
   "execution_count": 7,
   "id": "ac2b1173",
   "metadata": {},
   "outputs": [
    {
     "name": "stdout",
     "output_type": "stream",
     "text": [
      "            name    id  gender    uid department\n",
      "0  James Cameron  4762       2   2710  Directing\n",
      "1       John Woo  4893       2  11401  Directing\n",
      "2     Luc Besson  4949       2     59  Directing\n"
     ]
    }
   ],
   "source": [
    "#Query4: FIND THESE 3 DIRECTORS: JAMES CAMERON ; LUC BESSON ; JOHN WOO\n",
    "Q4 = \"\"\"SELECT * FROM directors WHERE name == 'James Cameron' or name == 'Luc Besson' or name == 'John Woo'\"\"\"\n",
    "r4 = pd.read_sql(Q4,db)\n",
    "print(r4)"
   ]
  },
  {
   "cell_type": "code",
   "execution_count": 8,
   "id": "a5b9d436",
   "metadata": {},
   "outputs": [
    {
     "name": "stdout",
     "output_type": "stream",
     "text": [
      "            name    id  gender    uid department\n",
      "0  James Cameron  4762       2   2710  Directing\n",
      "1       John Woo  4893       2  11401  Directing\n",
      "2     Luc Besson  4949       2     59  Directing\n"
     ]
    }
   ],
   "source": [
    "#Query4: FIND THESE 3 DIRECTORS: JAMES CAMERON ; LUC BESSON ; JOHN WOO\n",
    "Q4 = \"\"\"SELECT * FROM directors WHERE name IN ('James Cameron', 'Luc Besson', 'John Woo')\"\"\"\n",
    "r4 = pd.read_sql(Q4,db)\n",
    "print(r4)"
   ]
  },
  {
   "cell_type": "code",
   "execution_count": 9,
   "id": "600331f1",
   "metadata": {},
   "outputs": [
    {
     "name": "stdout",
     "output_type": "stream",
     "text": [
      "                 name\n",
      "0    Steven Spielberg\n",
      "1   Steven Soderbergh\n",
      "2        Steven Brill\n",
      "3     Steven Zaillian\n",
      "4        Steven Quale\n",
      "5       Steven Seagal\n",
      "6  Steven E. de Souza\n",
      "7    Steven Shainberg\n",
      "8    Steven R. Monroe\n"
     ]
    }
   ],
   "source": [
    "#Query5: FIND ALL DIRECTORS WITH NAME STARTING WITH STEVEN.\n",
    "Q5 = \"\"\"SELECT name FROM directors WHERE name LIKE 'Steven%'\"\"\"\n",
    "r5 = pd.read_sql(Q5, db)\n",
    "print(r5)"
   ]
  },
  {
   "cell_type": "code",
   "execution_count": 10,
   "id": "58024122",
   "metadata": {},
   "outputs": [
    {
     "name": "stdout",
     "output_type": "stream",
     "text": [
      "   COUNT(gender)\n",
      "0            150\n"
     ]
    }
   ],
   "source": [
    "#Query6 : COUNT ALL THE FEMALE DIRECTORS\n",
    "Q6 = \"\"\"SELECT COUNT(gender) FROM directors WHERE gender == 1\"\"\"\n",
    "r6 = pd.read_sql(Q6,db)\n",
    "print(r6)"
   ]
  },
  {
   "cell_type": "code",
   "execution_count": 11,
   "id": "06f8aa0a",
   "metadata": {},
   "outputs": [
    {
     "name": "stdout",
     "output_type": "stream",
     "text": [
      "     id          name\n",
      "0  5174  Karyn Kusama\n"
     ]
    }
   ],
   "source": [
    "#Query7 : FIND THE NAME OF THE 10TH FIRST WOMEN DIRECTOR\n",
    "Q7 = \"\"\"SELECT id, name FROM directors \n",
    "        WHERE gender == 1 \n",
    "        ORDER BY id \n",
    "        LIMIT 1 \n",
    "        OFFSET 10\"\"\"\n",
    "r7 = pd.read_sql(Q7,db)\n",
    "print(r7)"
   ]
  },
  {
   "cell_type": "code",
   "execution_count": 12,
   "id": "1bfdbb7e",
   "metadata": {},
   "outputs": [
    {
     "name": "stdout",
     "output_type": "stream",
     "text": [
      "                                original_title\n",
      "0  Pirates of the Caribbean: On Stranger Tides\n",
      "1     Pirates of the Caribbean: At World's End\n",
      "2                      Avengers: Age of Ultron\n"
     ]
    }
   ],
   "source": [
    "#Query9 : WHAT ARE THE 3 MOST BANKABLE MOVIES?\n",
    "Q9 = \"\"\"SELECT original_title FROM movies ORDER BY budget DESC LIMIT 3\"\"\"\n",
    "r9 = pd.read_sql(Q9, db)\n",
    "print(r9)"
   ]
  },
  {
   "cell_type": "code",
   "execution_count": 13,
   "id": "b868437c",
   "metadata": {},
   "outputs": [
    {
     "name": "stdout",
     "output_type": "stream",
     "text": [
      "  original_title  vote_average\n",
      "0      Sardaarji           9.5\n"
     ]
    }
   ],
   "source": [
    "#Query10 : WHAT IS THE MOST AWARDED AVERAGE VOTE SINCE JAN-1-2000?\n",
    "Q10 = \"\"\"SELECT original_title, vote_average FROM movies \n",
    "         WHERE release_date > '2000-01-01'\n",
    "         ORDER BY vote_average DESC LIMIT 1 \"\"\"\n",
    "r10 = pd.read_sql(Q10, db)\n",
    "print(r10)"
   ]
  },
  {
   "cell_type": "code",
   "execution_count": 14,
   "id": "73797b30",
   "metadata": {},
   "outputs": [
    {
     "name": "stdout",
     "output_type": "stream",
     "text": [
      "  original_title\n",
      "0          Brave\n"
     ]
    }
   ],
   "source": [
    "#Query11: WHICH MOVIES WERE DIRECTED BY BRENDA CHAPMAN?\n",
    "Q11 = \"\"\"SELECT m.original_title FROM movies as m \n",
    "         JOIN directors as d\n",
    "         ON m.director_id = d.id\n",
    "         WHERE name == 'Brenda Chapman'\"\"\"\n",
    "r11 = pd.read_sql(Q11, db)\n",
    "print(r11)"
   ]
  },
  {
   "cell_type": "code",
   "execution_count": 15,
   "id": "26617dfe",
   "metadata": {},
   "outputs": [
    {
     "name": "stdout",
     "output_type": "stream",
     "text": [
      "               name    id     budget\n",
      "0  Steven Spielberg  4799  185000000\n"
     ]
    }
   ],
   "source": [
    "#Query12 : WHICH DIRECTOR IS THE MOST BANKABLE ONE?\n",
    "Q12 = \"\"\"SELECT d.name,d.id,m.budget FROM directors as d\n",
    "        JOIN movies as m\n",
    "        ON d.id = m.director_id \n",
    "        GROUP BY m.director_id ORDER BY sum(m.budget) DESC\n",
    "        LIMIT 1\"\"\"\n",
    "r12 = pd.read_sql(Q12, db)\n",
    "print(r12)"
   ]
  },
  {
   "cell_type": "code",
   "execution_count": 16,
   "id": "d7696a82",
   "metadata": {},
   "outputs": [
    {
     "name": "stdout",
     "output_type": "stream",
     "text": [
      "                              original_title  popularity\n",
      "0                                     Avatar         150\n",
      "1   Pirates of the Caribbean: At World's End         139\n",
      "2                                    Spectre         107\n",
      "3                      The Dark Knight Rises         112\n",
      "4                               Spider-Man 3         115\n",
      "..                                       ...         ...\n",
      "86                              Pulp Fiction         121\n",
      "87                             The Godfather         143\n",
      "88           One Flew Over the Cuckoo's Nest         127\n",
      "89                                  Whiplash         192\n",
      "90                                It Follows         100\n",
      "\n",
      "[91 rows x 2 columns]\n"
     ]
    }
   ],
   "source": [
    "#Query13 : NAME ALL THE MOVIES WITH POPULARITY > 99\n",
    "Q13 = \"\"\"SELECT original_title, popularity FROM movies WHERE popularity > 99\"\"\"\n",
    "r13 = pd.read_sql(Q13, db)\n",
    "print(r13)"
   ]
  },
  {
   "cell_type": "code",
   "execution_count": 17,
   "id": "dd0c18fc",
   "metadata": {},
   "outputs": [
    {
     "name": "stdout",
     "output_type": "stream",
     "text": [
      "     release_date                original_title\n",
      "0      2009-12-10                        Avatar\n",
      "1      2015-10-26                       Spectre\n",
      "2      2012-07-16         The Dark Knight Rises\n",
      "3      2012-03-07                   John Carter\n",
      "4      2010-11-24                       Tangled\n",
      "...           ...                           ...\n",
      "1672   2011-10-26      All Superheroes Must Die\n",
      "1673   2012-01-20  Sanctuary: Quite a Conundrum\n",
      "1674   2011-12-26                     Newlyweds\n",
      "1675   2013-10-13     Signed, Sealed, Delivered\n",
      "1676   2012-05-03              Shanghai Calling\n",
      "\n",
      "[1677 rows x 2 columns]\n"
     ]
    }
   ],
   "source": [
    "#Query14 : FIND OUT ALL THE MOVIES THAT WERE RELEASED AFTER 2011-01-01\n",
    "Q14 = \"\"\"SELECT release_date,original_title FROM movies WHERE release_date > 2011-01-01\"\"\"\n",
    "r14 = pd.read_sql(Q14, db)\n",
    "print(r14)"
   ]
  },
  {
   "cell_type": "code",
   "execution_count": null,
   "id": "8a2abb66",
   "metadata": {},
   "outputs": [],
   "source": []
  }
 ],
 "metadata": {
  "kernelspec": {
   "display_name": "Python 3 (ipykernel)",
   "language": "python",
   "name": "python3"
  },
  "language_info": {
   "codemirror_mode": {
    "name": "ipython",
    "version": 3
   },
   "file_extension": ".py",
   "mimetype": "text/x-python",
   "name": "python",
   "nbconvert_exporter": "python",
   "pygments_lexer": "ipython3",
   "version": "3.10.9"
  }
 },
 "nbformat": 4,
 "nbformat_minor": 5
}
